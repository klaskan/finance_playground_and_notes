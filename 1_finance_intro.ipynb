{
  "nbformat": 4,
  "nbformat_minor": 0,
  "metadata": {
    "colab": {
      "name": "1_finance_intro.ipynb",
      "provenance": [],
      "collapsed_sections": []
    },
    "kernelspec": {
      "name": "python3",
      "display_name": "Python 3"
    }
  },
  "cells": [
    {
      "cell_type": "markdown",
      "metadata": {
        "id": "_4tr72-OLj2o",
        "colab_type": "text"
      },
      "source": [
        "##Introduksjon\n",
        "✅Latex check: $2x^{2} + \\frac{1}{2}$\n",
        "\n",
        "✅Alle disse notatne vil bli gjort på google sin colab plattform. Dette notatet vil bare bli brukt for å finne eventuelle limiteringer ved plattformen. \n",
        "\n",
        "✅Støtter også unicode 🎉 "
      ]
    },
    {
      "cell_type": "code",
      "metadata": {
        "id": "OBI5ytY12RbG",
        "colab_type": "code",
        "colab": {
          "base_uri": "https://localhost:8080/",
          "height": 34
        },
        "outputId": "8169b928-a9ae-419d-9548-c93f859f9768"
      },
      "source": [
        "5+2"
      ],
      "execution_count": 1,
      "outputs": [
        {
          "output_type": "execute_result",
          "data": {
            "text/plain": [
              "7"
            ]
          },
          "metadata": {
            "tags": []
          },
          "execution_count": 1
        }
      ]
    },
    {
      "cell_type": "code",
      "metadata": {
        "id": "qzivHegLMQQn",
        "colab_type": "code",
        "colab": {
          "base_uri": "https://localhost:8080/",
          "height": 34
        },
        "outputId": "19072cb6-1d9a-406c-938d-9786c8f36939"
      },
      "source": [
        "x = 3\n",
        "y = 8\n",
        "print(y - x)"
      ],
      "execution_count": 2,
      "outputs": [
        {
          "output_type": "stream",
          "text": [
            "5\n"
          ],
          "name": "stdout"
        }
      ]
    },
    {
      "cell_type": "code",
      "metadata": {
        "id": "STIx7QnJMZw8",
        "colab_type": "code",
        "colab": {
          "base_uri": "https://localhost:8080/",
          "height": 50
        },
        "outputId": "74c31ab2-8030-43cc-a59b-4fb57f3aea29"
      },
      "source": [
        "#Slow? \n",
        "from timeit import default_timer as timer\n",
        "\n",
        "start = timer()\n",
        "calc = 0\n",
        "range_num = 100000\n",
        "for i in range(range_num):\n",
        "  if i > range_num/2:\n",
        "    calc -= i\n",
        "  else:\n",
        "    calc += i\n",
        "\n",
        "    \n",
        "elapsed_time = timer() - start\n",
        "print(\"Execution time: \",elapsed_time)\n",
        "print(calc)\n",
        "#nope"
      ],
      "execution_count": 10,
      "outputs": [
        {
          "output_type": "stream",
          "text": [
            "Execution time:  0.026406159000089247\n",
            "-2499900000\n"
          ],
          "name": "stdout"
        }
      ]
    },
    {
      "cell_type": "code",
      "metadata": {
        "id": "a3ZoheZYOR48",
        "colab_type": "code",
        "colab": {}
      },
      "source": [
        "#Ser om de mest nødvendige bibliotekene er tilgjengelig.\n",
        "import numpy as np\n",
        "import pandas as pd\n",
        "import matplotlib.pyplot as plt\n",
        "import statistics as stat"
      ],
      "execution_count": 0,
      "outputs": []
    },
    {
      "cell_type": "code",
      "metadata": {
        "id": "N-R-hxFhQbzM",
        "colab_type": "code",
        "colab": {
          "base_uri": "https://localhost:8080/",
          "height": 67
        },
        "outputId": "83db2d11-7763-428d-9319-99da4f84e9eb"
      },
      "source": [
        "mean_list = [1,2,3,4,5,6,7,3,3,1,6,5,9]\n",
        "print(\"Mean:\",np.mean(mean_list))\n",
        "print(\"Median:\", np.median(mean_list))\n",
        "print(\"Mode:\", stat.mode(mean_list))"
      ],
      "execution_count": 24,
      "outputs": [
        {
          "output_type": "stream",
          "text": [
            "Mean: 4.230769230769231\n",
            "Median: 4.0\n",
            "Mode: 3\n"
          ],
          "name": "stdout"
        }
      ]
    },
    {
      "cell_type": "code",
      "metadata": {
        "id": "-ivTlXN1R3Jx",
        "colab_type": "code",
        "colab": {}
      },
      "source": [
        "#Vi kan enkelt hente frem dokumentasjon med \"?\"\n",
        "?np.random.default_rng() #Konstruerer en generator.\n",
        "test = np.random.default_rng()"
      ],
      "execution_count": 0,
      "outputs": []
    },
    {
      "cell_type": "code",
      "metadata": {
        "id": "6LyVCkVLURTw",
        "colab_type": "code",
        "colab": {
          "base_uri": "https://localhost:8080/",
          "height": 34
        },
        "outputId": "47402fcf-978a-48fe-acbc-33577d98e039"
      },
      "source": [
        "test.normal()"
      ],
      "execution_count": 39,
      "outputs": [
        {
          "output_type": "execute_result",
          "data": {
            "text/plain": [
              "0.22936540797698424"
            ]
          },
          "metadata": {
            "tags": []
          },
          "execution_count": 39
        }
      ]
    },
    {
      "cell_type": "code",
      "metadata": {
        "id": "TTB1zcVqU-6w",
        "colab_type": "code",
        "colab": {}
      },
      "source": [
        "#sampeling data from random dis 0 = center, 10=likeliehood of extreme values, 100=size\n",
        "randomnum_1_10 = np.random.normal(0,1,100)"
      ],
      "execution_count": 0,
      "outputs": []
    },
    {
      "cell_type": "code",
      "metadata": {
        "id": "zKpJjeo6YIi1",
        "colab_type": "code",
        "colab": {
          "base_uri": "https://localhost:8080/",
          "height": 353
        },
        "outputId": "5a09dcd1-cce3-45f4-da47-4b644082a835"
      },
      "source": [
        "randomnum_1_10"
      ],
      "execution_count": 45,
      "outputs": [
        {
          "output_type": "execute_result",
          "data": {
            "text/plain": [
              "array([ 1.56174392,  2.05730905,  1.02682238, -1.27429646, -1.39019069,\n",
              "        0.03949957, -1.31012499, -0.50113728, -0.65434382, -0.94100091,\n",
              "       -0.08591542, -1.01255759, -0.08124479,  0.34711226,  2.20889992,\n",
              "        0.51057349,  0.96102294,  0.31585741, -0.72193618, -0.94060845,\n",
              "        0.43428141, -1.15024831,  0.14155159,  0.34631604,  1.94925876,\n",
              "       -0.10310442,  0.28122571,  0.05513535, -2.0470798 , -0.4286773 ,\n",
              "       -0.08114659, -1.11137437, -0.20998314, -0.02197591,  1.25211829,\n",
              "       -0.18360665,  1.1901456 , -0.16631763, -0.03228588, -0.37472503,\n",
              "       -1.19010736, -0.51743439, -1.08826226,  0.62425356,  0.03484806,\n",
              "       -0.18925857, -0.39197084,  1.22350621,  0.30827687,  0.50239988,\n",
              "       -2.32715777, -1.18717305,  0.61737579,  0.15695657,  0.21928451,\n",
              "        1.55893181, -1.81256867,  0.2813244 ,  1.44296612,  1.7288178 ,\n",
              "        0.19089153, -0.17582236,  0.55544566, -0.24554022, -0.90055834,\n",
              "        0.81202894, -0.37638267, -0.21795737,  0.81657793, -1.68600366,\n",
              "        1.13715514, -0.28978626, -0.18718283,  0.22778089,  1.35429498,\n",
              "        0.7636453 , -1.72316879,  1.43914634,  1.3690553 , -0.99293556,\n",
              "        0.15901517, -1.13007157,  1.20864418,  0.63782177,  0.78741717,\n",
              "       -0.00797528,  0.96415249,  1.20250925,  1.65490909, -0.92589033,\n",
              "       -0.63677891, -0.72025379,  0.86804134,  0.57980075,  1.58882843,\n",
              "        2.10236826, -0.75431552, -2.04661012, -1.14599298, -1.33273977])"
            ]
          },
          "metadata": {
            "tags": []
          },
          "execution_count": 45
        }
      ]
    },
    {
      "cell_type": "code",
      "metadata": {
        "id": "BRxa3yHdYQkE",
        "colab_type": "code",
        "colab": {}
      },
      "source": [
        "plt.plot?"
      ],
      "execution_count": 0,
      "outputs": []
    },
    {
      "cell_type": "code",
      "metadata": {
        "id": "8sKYsRivZJ8G",
        "colab_type": "code",
        "colab": {
          "base_uri": "https://localhost:8080/",
          "height": 282
        },
        "outputId": "1a82a6eb-f1c2-4ce1-8195-9dce66fc6413"
      },
      "source": [
        "plt.plot(randomnum_1_10)"
      ],
      "execution_count": 52,
      "outputs": [
        {
          "output_type": "execute_result",
          "data": {
            "text/plain": [
              "[<matplotlib.lines.Line2D at 0x7fc5f344e198>]"
            ]
          },
          "metadata": {
            "tags": []
          },
          "execution_count": 52
        },
        {
          "output_type": "display_data",
          "data": {
            "image/png": "[encoded data removed]",
            "text/plain": [
              "<Figure size 432x288 with 1 Axes>"
            ]
          },
          "metadata": {
            "tags": []
          }
        }
      ]
    },
    {
      "cell_type": "code",
      "metadata": {
        "id": "zzZiQ8O3Zrta",
        "colab_type": "code",
        "colab": {
          "base_uri": "https://localhost:8080/",
          "height": 162
        },
        "outputId": "a27353d7-4b6c-41e2-ac81-b05b4cec854c"
      },
      "source": [
        "data = get_pricing('MSFT', start_date='2012-1-1', end_date='2015-6-1')"
      ],
      "execution_count": 53,
      "outputs": [
        {
          "output_type": "error",
          "ename": "NameError",
          "evalue": "ignored",
          "traceback": [
            "\u001b[0;31m---------------------------------------------------------------------------\u001b[0m",
            "\u001b[0;31mNameError\u001b[0m                                 Traceback (most recent call last)",
            "\u001b[0;32m<ipython-input-53-2a6f498dd3b0>\u001b[0m in \u001b[0;36m<module>\u001b[0;34m()\u001b[0m\n\u001b[0;32m----> 1\u001b[0;31m \u001b[0mdata\u001b[0m \u001b[0;34m=\u001b[0m \u001b[0mget_pricing\u001b[0m\u001b[0;34m(\u001b[0m\u001b[0;34m'MSFT'\u001b[0m\u001b[0;34m,\u001b[0m \u001b[0mstart_date\u001b[0m\u001b[0;34m=\u001b[0m\u001b[0;34m'2012-1-1'\u001b[0m\u001b[0;34m,\u001b[0m \u001b[0mend_date\u001b[0m\u001b[0;34m=\u001b[0m\u001b[0;34m'2015-6-1'\u001b[0m\u001b[0;34m)\u001b[0m\u001b[0;34m\u001b[0m\u001b[0;34m\u001b[0m\u001b[0m\n\u001b[0m",
            "\u001b[0;31mNameError\u001b[0m: name 'get_pricing' is not defined"
          ]
        }
      ]
    },
    {
      "cell_type": "code",
      "metadata": {
        "id": "5kQhaUOraiJx",
        "colab_type": "code",
        "colab": {
          "base_uri": "https://localhost:8080/",
          "height": 373
        },
        "outputId": "2d75f889-396f-4012-8ac0-5798f0169856"
      },
      "source": [
        "!pip install yfinance"
      ],
      "execution_count": 62,
      "outputs": [
        {
          "output_type": "stream",
          "text": [
            "Collecting yfinance\n",
            "  Downloading https://files.pythonhosted.org/packages/c2/31/8b374a12b90def92a4e27d0fc595fc43635f395984e36a075244d98bd265/yfinance-0.1.54.tar.gz\n",
            "Requirement already satisfied: pandas>=0.24 in /usr/local/lib/python3.6/dist-packages (from yfinance) (0.25.3)\n",
            "Requirement already satisfied: numpy>=1.15 in /usr/local/lib/python3.6/dist-packages (from yfinance) (1.17.5)\n",
            "Requirement already satisfied: requests>=2.20 in /usr/local/lib/python3.6/dist-packages (from yfinance) (2.21.0)\n",
            "Requirement already satisfied: multitasking>=0.0.7 in /usr/local/lib/python3.6/dist-packages (from yfinance) (0.0.9)\n",
            "Requirement already satisfied: pytz>=2017.2 in /usr/local/lib/python3.6/dist-packages (from pandas>=0.24->yfinance) (2018.9)\n",
            "Requirement already satisfied: python-dateutil>=2.6.1 in /usr/local/lib/python3.6/dist-packages (from pandas>=0.24->yfinance) (2.6.1)\n",
            "Requirement already satisfied: idna<2.9,>=2.5 in /usr/local/lib/python3.6/dist-packages (from requests>=2.20->yfinance) (2.8)\n",
            "Requirement already satisfied: urllib3<1.25,>=1.21.1 in /usr/local/lib/python3.6/dist-packages (from requests>=2.20->yfinance) (1.24.3)\n",
            "Requirement already satisfied: certifi>=2017.4.17 in /usr/local/lib/python3.6/dist-packages (from requests>=2.20->yfinance) (2019.11.28)\n",
            "Requirement already satisfied: chardet<3.1.0,>=3.0.2 in /usr/local/lib/python3.6/dist-packages (from requests>=2.20->yfinance) (3.0.4)\n",
            "Requirement already satisfied: six>=1.5 in /usr/local/lib/python3.6/dist-packages (from python-dateutil>=2.6.1->pandas>=0.24->yfinance) (1.12.0)\n",
            "Building wheels for collected packages: yfinance\n",
            "  Building wheel for yfinance (setup.py) ... \u001b[?25l\u001b[?25hdone\n",
            "  Created wheel for yfinance: filename=yfinance-0.1.54-py2.py3-none-any.whl size=22409 sha256=b80fd6b74bc267bf9891e909db59d3e3a00a5abe509b2a6c2795d9d78acea3f7\n",
            "  Stored in directory: /root/.cache/pip/wheels/f9/e3/5b/ec24dd2984b12d61e0abf26289746c2436a0e7844f26f2515c\n",
            "Successfully built yfinance\n",
            "Installing collected packages: yfinance\n",
            "Successfully installed yfinance-0.1.54\n"
          ],
          "name": "stdout"
        }
      ]
    },
    {
      "cell_type": "code",
      "metadata": {
        "id": "83d0wyd5kZGw",
        "colab_type": "code",
        "colab": {}
      },
      "source": [
        "import yfinance as yf #Worked as of 12/02/20"
      ],
      "execution_count": 0,
      "outputs": []
    },
    {
      "cell_type": "code",
      "metadata": {
        "id": "Z0ZTDyKgkfRX",
        "colab_type": "code",
        "colab": {
          "base_uri": "https://localhost:8080/",
          "height": 34
        },
        "outputId": "937adb15-986d-4499-ff12-a28f9fd173bf"
      },
      "source": [
        "data = yf.download('TEL.OL','2016-01-01','2020-01-01')#Telenor"
      ],
      "execution_count": 71,
      "outputs": [
        {
          "output_type": "stream",
          "text": [
            "\r[*********************100%***********************]  1 of 1 completed\n"
          ],
          "name": "stdout"
        }
      ]
    },
    {
      "cell_type": "code",
      "metadata": {
        "id": "ZN0GJRnvm5b-",
        "colab_type": "code",
        "colab": {
          "base_uri": "https://localhost:8080/",
          "height": 34
        },
        "outputId": "a36c6582-5b97-46c0-8f44-4cf0a04bef90"
      },
      "source": [
        "type(data)"
      ],
      "execution_count": 73,
      "outputs": [
        {
          "output_type": "execute_result",
          "data": {
            "text/plain": [
              "pandas.core.frame.DataFrame"
            ]
          },
          "metadata": {
            "tags": []
          },
          "execution_count": 73
        }
      ]
    },
    {
      "cell_type": "code",
      "metadata": {
        "id": "O3xIqd-AnAJ1",
        "colab_type": "code",
        "colab": {
          "base_uri": "https://localhost:8080/",
          "height": 431
        },
        "outputId": "39ed379c-4625-499b-fe1b-7592c37d0efe"
      },
      "source": [
        "data"
      ],
      "execution_count": 74,
      "outputs": [
        {
          "output_type": "execute_result",
          "data": {
            "text/html": [
              "<div>\n",
              "<style scoped>\n",
              "    .dataframe tbody tr th:only-of-type {\n",
              "        vertical-align: middle;\n",
              "    }\n",
              "\n",
              "    .dataframe tbody tr th {\n",
              "        vertical-align: top;\n",
              "    }\n",
              "\n",
              "    .dataframe thead th {\n",
              "        text-align: right;\n",
              "    }\n",
              "</style>\n",
              "<table border=\"1\" class=\"dataframe\">\n",
              "  <thead>\n",
              "    <tr style=\"text-align: right;\">\n",
              "      <th></th>\n",
              "      <th>Open</th>\n",
              "      <th>High</th>\n",
              "      <th>Low</th>\n",
              "      <th>Close</th>\n",
              "      <th>Adj Close</th>\n",
              "      <th>Volume</th>\n",
              "    </tr>\n",
              "    <tr>\n",
              "      <th>Date</th>\n",
              "      <th></th>\n",
              "      <th></th>\n",
              "      <th></th>\n",
              "      <th></th>\n",
              "      <th></th>\n",
              "      <th></th>\n",
              "    </tr>\n",
              "  </thead>\n",
              "  <tbody>\n",
              "    <tr>\n",
              "      <th>2016-01-04</th>\n",
              "      <td>148.000000</td>\n",
              "      <td>148.100006</td>\n",
              "      <td>143.800003</td>\n",
              "      <td>145.199997</td>\n",
              "      <td>115.821800</td>\n",
              "      <td>1495548</td>\n",
              "    </tr>\n",
              "    <tr>\n",
              "      <th>2016-01-05</th>\n",
              "      <td>146.000000</td>\n",
              "      <td>146.600006</td>\n",
              "      <td>143.000000</td>\n",
              "      <td>143.000000</td>\n",
              "      <td>114.066933</td>\n",
              "      <td>1941196</td>\n",
              "    </tr>\n",
              "    <tr>\n",
              "      <th>2016-01-06</th>\n",
              "      <td>143.399994</td>\n",
              "      <td>144.300003</td>\n",
              "      <td>141.300003</td>\n",
              "      <td>142.399994</td>\n",
              "      <td>113.588333</td>\n",
              "      <td>1440151</td>\n",
              "    </tr>\n",
              "    <tr>\n",
              "      <th>2016-01-07</th>\n",
              "      <td>140.199997</td>\n",
              "      <td>143.699997</td>\n",
              "      <td>138.699997</td>\n",
              "      <td>143.500000</td>\n",
              "      <td>114.465775</td>\n",
              "      <td>2778008</td>\n",
              "    </tr>\n",
              "    <tr>\n",
              "      <th>2016-01-08</th>\n",
              "      <td>144.500000</td>\n",
              "      <td>149.500000</td>\n",
              "      <td>144.199997</td>\n",
              "      <td>147.100006</td>\n",
              "      <td>117.337387</td>\n",
              "      <td>3415686</td>\n",
              "    </tr>\n",
              "    <tr>\n",
              "      <th>...</th>\n",
              "      <td>...</td>\n",
              "      <td>...</td>\n",
              "      <td>...</td>\n",
              "      <td>...</td>\n",
              "      <td>...</td>\n",
              "      <td>...</td>\n",
              "    </tr>\n",
              "    <tr>\n",
              "      <th>2019-12-19</th>\n",
              "      <td>159.800003</td>\n",
              "      <td>159.899994</td>\n",
              "      <td>157.699997</td>\n",
              "      <td>158.699997</td>\n",
              "      <td>158.699997</td>\n",
              "      <td>2523823</td>\n",
              "    </tr>\n",
              "    <tr>\n",
              "      <th>2019-12-20</th>\n",
              "      <td>159.000000</td>\n",
              "      <td>160.649994</td>\n",
              "      <td>158.899994</td>\n",
              "      <td>159.350006</td>\n",
              "      <td>159.350006</td>\n",
              "      <td>2660752</td>\n",
              "    </tr>\n",
              "    <tr>\n",
              "      <th>2019-12-23</th>\n",
              "      <td>160.050003</td>\n",
              "      <td>160.399994</td>\n",
              "      <td>159.500000</td>\n",
              "      <td>159.949997</td>\n",
              "      <td>159.949997</td>\n",
              "      <td>895745</td>\n",
              "    </tr>\n",
              "    <tr>\n",
              "      <th>2019-12-27</th>\n",
              "      <td>160.300003</td>\n",
              "      <td>160.399994</td>\n",
              "      <td>158.100006</td>\n",
              "      <td>158.649994</td>\n",
              "      <td>158.649994</td>\n",
              "      <td>765243</td>\n",
              "    </tr>\n",
              "    <tr>\n",
              "      <th>2019-12-30</th>\n",
              "      <td>158.649994</td>\n",
              "      <td>159.000000</td>\n",
              "      <td>157.449997</td>\n",
              "      <td>157.449997</td>\n",
              "      <td>157.449997</td>\n",
              "      <td>971204</td>\n",
              "    </tr>\n",
              "  </tbody>\n",
              "</table>\n",
              "<p>1002 rows × 6 columns</p>\n",
              "</div>"
            ],
            "text/plain": [
              "                  Open        High         Low       Close   Adj Close   Volume\n",
              "Date                                                                           \n",
              "2016-01-04  148.000000  148.100006  143.800003  145.199997  115.821800  1495548\n",
              "2016-01-05  146.000000  146.600006  143.000000  143.000000  114.066933  1941196\n",
              "2016-01-06  143.399994  144.300003  141.300003  142.399994  113.588333  1440151\n",
              "2016-01-07  140.199997  143.699997  138.699997  143.500000  114.465775  2778008\n",
              "2016-01-08  144.500000  149.500000  144.199997  147.100006  117.337387  3415686\n",
              "...                ...         ...         ...         ...         ...      ...\n",
              "2019-12-19  159.800003  159.899994  157.699997  158.699997  158.699997  2523823\n",
              "2019-12-20  159.000000  160.649994  158.899994  159.350006  159.350006  2660752\n",
              "2019-12-23  160.050003  160.399994  159.500000  159.949997  159.949997   895745\n",
              "2019-12-27  160.300003  160.399994  158.100006  158.649994  158.649994   765243\n",
              "2019-12-30  158.649994  159.000000  157.449997  157.449997  157.449997   971204\n",
              "\n",
              "[1002 rows x 6 columns]"
            ]
          },
          "metadata": {
            "tags": []
          },
          "execution_count": 74
        }
      ]
    },
    {
      "cell_type": "code",
      "metadata": {
        "id": "d_1M2Ntzki6w",
        "colab_type": "code",
        "colab": {
          "base_uri": "https://localhost:8080/",
          "height": 277
        },
        "outputId": "d15eaf61-d4ad-40ff-fc09-bbaf4f39b1ce"
      },
      "source": [
        "data.Close.plot()\n",
        "plt.show()"
      ],
      "execution_count": 70,
      "outputs": [
        {
          "output_type": "display_data",
          "data": {
            "image/png": "[encoded data removed]",
            "text/plain": [
              "<Figure size 432x288 with 1 Axes>"
            ]
          },
          "metadata": {
            "tags": []
          }
        }
      ]
    },
    {
      "cell_type": "code",
      "metadata": {
        "id": "7pn2CJVRkyhT",
        "colab_type": "code",
        "colab": {}
      },
      "source": [
        ""
      ],
      "execution_count": 0,
      "outputs": []
    },
    {
      "cell_type": "markdown",
      "metadata": {
        "id": "-QjrfIv5nTnm",
        "colab_type": "text"
      },
      "source": [
        "Så colab funker som bare det og har mange bibiliotek allerede intallert og oppe og går. Dersom man mangler noe er det bare å bruke \"!pip install\" for å få tak i det. "
      ]
    },
    {
      "cell_type": "code",
      "metadata": {
        "id": "wgoSKZp9oKBc",
        "colab_type": "code",
        "colab": {}
      },
      "source": [
        ""
      ],
      "execution_count": 0,
      "outputs": []
    }
  ]
}