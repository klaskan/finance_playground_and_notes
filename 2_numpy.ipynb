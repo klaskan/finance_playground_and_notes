{
  "nbformat": 4,
  "nbformat_minor": 0,
  "metadata": {
    "colab": {
      "name": "2_numpy.ipynb",
      "provenance": []
    },
    "kernelspec": {
      "name": "python3",
      "display_name": "Python 3"
    }
  },
  "cells": [
    {
      "cell_type": "markdown",
      "metadata": {
        "id": "poPmGpiAQ8Ob",
        "colab_type": "text"
      },
      "source": [
        "#Numpy\n",
        "Numpy gjør at vi kan ta i bruk multi-deminsional arrays og mattematiske funksjoner som lett lar oss gjennomføre lineær algebra kalkulasjoner. "
      ]
    },
    {
      "cell_type": "code",
      "metadata": {
        "id": "UXpRaqkEPaMb",
        "colab_type": "code",
        "colab": {}
      },
      "source": [
        "import numpy as np\n",
        "import matplotlib.pyplot as plt"
      ],
      "execution_count": 0,
      "outputs": []
    },
    {
      "cell_type": "code",
      "metadata": {
        "id": "HxgCD61jRZ8w",
        "colab_type": "code",
        "outputId": "05c8f3ba-00ef-4123-924f-51fca03ac60b",
        "colab": {
          "base_uri": "https://localhost:8080/",
          "height": 34
        }
      },
      "source": [
        "#Finner gjennomsnittelig avkasting på et portfolio\n",
        "stock_list = [2.6, 1.2, 3.3, 8, 4.1] #liste\n",
        "#Vi lager et numpy array på følgende måte:\n",
        "returns = np.array(stock_list)\n",
        "print(\"Returns: {0}, and is of type {1}\".format(returns, type(returns)))"
      ],
      "execution_count": 2,
      "outputs": [
        {
          "output_type": "stream",
          "text": [
            "Returns: [2.6 1.2 3.3 8.  4.1], and is of type <class 'numpy.ndarray'>\n"
          ],
          "name": "stdout"
        }
      ]
    },
    {
      "cell_type": "code",
      "metadata": {
        "id": "oMC3hESnS9Ru",
        "colab_type": "code",
        "outputId": "b4bb3f09-df64-4853-da5f-866f191f3ae3",
        "colab": {
          "base_uri": "https://localhost:8080/",
          "height": 34
        }
      },
      "source": [
        "returns"
      ],
      "execution_count": 3,
      "outputs": [
        {
          "output_type": "execute_result",
          "data": {
            "text/plain": [
              "array([2.6, 1.2, 3.3, 8. , 4.1])"
            ]
          },
          "metadata": {
            "tags": []
          },
          "execution_count": 3
        }
      ]
    },
    {
      "cell_type": "code",
      "metadata": {
        "id": "JUADbJyOWLrj",
        "colab_type": "code",
        "outputId": "4e35478f-7ab0-4449-b4ae-e565c762fc31",
        "colab": {
          "base_uri": "https://localhost:8080/",
          "height": 51
        }
      },
      "source": [
        "#2-dimensjonalt array\n",
        "two_d = np.array([[1,2], [3,4]])\n",
        "print(two_d)"
      ],
      "execution_count": 4,
      "outputs": [
        {
          "output_type": "stream",
          "text": [
            "[[1 2]\n",
            " [3 4]]\n"
          ],
          "name": "stdout"
        }
      ]
    },
    {
      "cell_type": "code",
      "metadata": {
        "id": "fTH1Nl87WkvR",
        "colab_type": "code",
        "outputId": "ac76a310-5db5-4487-cc91-549d502c5e10",
        "colab": {
          "base_uri": "https://localhost:8080/",
          "height": 34
        }
      },
      "source": [
        "#Shape ghir oss dimensjonene på arrayet\n",
        "print(two_d.shape)"
      ],
      "execution_count": 5,
      "outputs": [
        {
          "output_type": "stream",
          "text": [
            "(2, 2)\n"
          ],
          "name": "stdout"
        }
      ]
    },
    {
      "cell_type": "code",
      "metadata": {
        "id": "EJxXhPf0XDXx",
        "colab_type": "code",
        "outputId": "482692c4-1371-49de-8cf7-49fccc94d66d",
        "colab": {
          "base_uri": "https://localhost:8080/",
          "height": 119
        }
      },
      "source": [
        "#Man er i stand til å slice arrayene på vanlig måte\n",
        "print(returns[1:3])\n",
        "print(\"_______\")\n",
        "print(two_d)\n",
        "print(two_d[:, 0]) #første kolonne\n",
        "print(two_d[0,:]) #første rad"
      ],
      "execution_count": 6,
      "outputs": [
        {
          "output_type": "stream",
          "text": [
            "[1.2 3.3]\n",
            "_______\n",
            "[[1 2]\n",
            " [3 4]]\n",
            "[1 3]\n",
            "[1 2]\n"
          ],
          "name": "stdout"
        }
      ]
    },
    {
      "cell_type": "code",
      "metadata": {
        "id": "8IitReQbX7bv",
        "colab_type": "code",
        "outputId": "18febc43-9108-4e4c-d00a-b238705e134d",
        "colab": {
          "base_uri": "https://localhost:8080/",
          "height": 85
        }
      },
      "source": [
        "#Numpy har også en rekke array funksjoner.\n",
        "print(returns)\n",
        "print(\"Log:\", np.log(returns)) #Log all numbers\n",
        "print(\"Mean:\", np.mean(returns))\n",
        "print(\"Max:\", np.max(returns))\n"
      ],
      "execution_count": 7,
      "outputs": [
        {
          "output_type": "stream",
          "text": [
            "[2.6 1.2 3.3 8.  4.1]\n",
            "Log: [0.95551145 0.18232156 1.19392247 2.07944154 1.41098697]\n",
            "Mean: 3.84\n",
            "Max: 8.0\n"
          ],
          "name": "stdout"
        }
      ]
    },
    {
      "cell_type": "code",
      "metadata": {
        "id": "PMsLY_z1YvRV",
        "colab_type": "code",
        "outputId": "356d4955-d1da-4bf1-ccf5-f636f3369fca",
        "colab": {
          "base_uri": "https://localhost:8080/",
          "height": 51
        }
      },
      "source": [
        "#kan også modifisere arrayene ganske fort\n",
        "returns2 = returns*10\n",
        "print(returns)\n",
        "print(returns2)"
      ],
      "execution_count": 8,
      "outputs": [
        {
          "output_type": "stream",
          "text": [
            "[2.6 1.2 3.3 8.  4.1]\n",
            "[26. 12. 33. 80. 41.]\n"
          ],
          "name": "stdout"
        }
      ]
    },
    {
      "cell_type": "code",
      "metadata": {
        "id": "rKgCnnGEZQOY",
        "colab_type": "code",
        "outputId": "707b15b7-d0f6-47fb-c951-e4c9f04c1efe",
        "colab": {
          "base_uri": "https://localhost:8080/",
          "height": 34
        }
      },
      "source": [
        "def devide3(arr):\n",
        "  return arr/3\n",
        "\n",
        "test1 = devide3(returns2)\n",
        "print(test1)"
      ],
      "execution_count": 9,
      "outputs": [
        {
          "output_type": "stream",
          "text": [
            "[ 8.66666667  4.         11.         26.66666667 13.66666667]\n"
          ],
          "name": "stdout"
        }
      ]
    },
    {
      "cell_type": "code",
      "metadata": {
        "id": "cIDKKTbTZx8k",
        "colab_type": "code",
        "colab": {
          "base_uri": "https://localhost:8080/",
          "height": 296
        },
        "outputId": "4549ac75-0d64-49e5-a4fe-7bde95de066d"
      },
      "source": [
        "#La oss nå simulere et aksjemarked.\n",
        "#Vi starter med å opprette en array som holder aktivaene og avkastningene.\n",
        "#Disse skal vi bruke til å bygge et portefølje \n",
        "\n",
        "#Vi lager et numpy array med dimensjonene 10 x 100 med bare 0\n",
        "assets = np.zeros((10, 100))\n",
        "returns = np.zeros((10,100))\n",
        "\n",
        "#Fyller første rad\n",
        "R_1 = np.random.normal(1.01, 0.03, 100)\n",
        "returns[0] = R_1\n",
        "assets[0] = np.cumprod(R_1)\n",
        "\n",
        "#Fyller følgende rader med vardier som er korrelert med rad 1 R_1\n",
        "for i in range(1, 10):\n",
        "    R_i = R_1 + np.random.normal(0.001, 0.02, 100)\n",
        "    returns[i] = R_i #De vil være korrelert fordi de har noen underliggende informasjon som vil være delt.\n",
        "    assets[i] = np.cumprod(R_i)\n",
        "    \n",
        "mean_returns = [(np.mean(R) - 1)*100 for R in returns]\n",
        "return_volatilities = [np.std(R) for R in returns]\n",
        "\n",
        "#Vi plotter avkastningen til de aksjene vi har laget.\n",
        "plt.bar(np.arange(len(mean_returns)), mean_returns)\n",
        "plt.xlabel('Stock')\n",
        "plt.ylabel('Returns')\n"
      ],
      "execution_count": 17,
      "outputs": [
        {
          "output_type": "execute_result",
          "data": {
            "text/plain": [
              "Text(0, 0.5, 'Returns')"
            ]
          },
          "metadata": {
            "tags": []
          },
          "execution_count": 17
        },
        {
          "output_type": "display_data",
          "data": {
            "image/png": "[encoded data removed]",
            "text/plain": [
              "<Figure size 432x288 with 1 Axes>"
            ]
          },
          "metadata": {
            "tags": []
          }
        }
      ]
    },
    {
      "cell_type": "code",
      "metadata": {
        "id": "QiCOSjman1SX",
        "colab_type": "code",
        "colab": {}
      },
      "source": [
        ""
      ],
      "execution_count": 0,
      "outputs": []
    }
  ]
}