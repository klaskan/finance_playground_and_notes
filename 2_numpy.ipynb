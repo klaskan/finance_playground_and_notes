{
  "nbformat": 4,
  "nbformat_minor": 0,
  "metadata": {
    "colab": {
      "name": "2_numpy.ipynb",
      "provenance": []
    },
    "kernelspec": {
      "name": "python3",
      "display_name": "Python 3"
    }
  },
  "cells": [
    {
      "cell_type": "markdown",
      "metadata": {
        "id": "poPmGpiAQ8Ob",
        "colab_type": "text"
      },
      "source": [
        "#Numpy\n",
        "Numpy gjør at vi kan ta i bruk multi-deminsional arrays og mattematiske funksjoner som lett lar oss gjennomføre lineær algebra kalkulasjoner. "
      ]
    },
    {
      "cell_type": "code",
      "metadata": {
        "id": "UXpRaqkEPaMb",
        "colab_type": "code",
        "colab": {}
      },
      "source": [
        "import numpy as np\n",
        "import matplotlib.pyplot as plt"
      ],
      "execution_count": 0,
      "outputs": []
    },
    {
      "cell_type": "code",
      "metadata": {
        "id": "HxgCD61jRZ8w",
        "colab_type": "code",
        "outputId": "22275bec-9f6d-4927-9598-a834d685559b",
        "colab": {
          "base_uri": "https://localhost:8080/",
          "height": 34
        }
      },
      "source": [
        "#Finner gjennomsnittelig avkasting på et portfolio\n",
        "stock_list = [2.6, 1.2, 3.3, 8, 4.1] #liste\n",
        "#Vi lager et numpy array på følgende måte:\n",
        "returns = np.array(stock_list)\n",
        "print(\"Returns: {0}, and is of type {1}\".format(returns, type(returns)))"
      ],
      "execution_count": 0,
      "outputs": [
        {
          "output_type": "stream",
          "text": [
            "Returns: [2.6 1.2 3.3 8.  4.1], and is of type <class 'numpy.ndarray'>\n"
          ],
          "name": "stdout"
        }
      ]
    },
    {
      "cell_type": "code",
      "metadata": {
        "id": "oMC3hESnS9Ru",
        "colab_type": "code",
        "outputId": "8475f1e6-89fd-4a0e-b2d2-1ed0156b0f61",
        "colab": {
          "base_uri": "https://localhost:8080/",
          "height": 34
        }
      },
      "source": [
        "returns"
      ],
      "execution_count": 0,
      "outputs": [
        {
          "output_type": "execute_result",
          "data": {
            "text/plain": [
              "array([2.6, 1.2, 3.3, 8. , 4.1])"
            ]
          },
          "metadata": {
            "tags": []
          },
          "execution_count": 3
        }
      ]
    },
    {
      "cell_type": "code",
      "metadata": {
        "id": "JUADbJyOWLrj",
        "colab_type": "code",
        "outputId": "9d759567-141d-40bc-dd02-b36519986c9b",
        "colab": {
          "base_uri": "https://localhost:8080/",
          "height": 50
        }
      },
      "source": [
        "#2-dimensjonalt array\n",
        "two_d = np.array([[1,2], [3,4]])\n",
        "print(two_d)"
      ],
      "execution_count": 0,
      "outputs": [
        {
          "output_type": "stream",
          "text": [
            "[[1 2]\n",
            " [3 4]]\n"
          ],
          "name": "stdout"
        }
      ]
    },
    {
      "cell_type": "code",
      "metadata": {
        "id": "fTH1Nl87WkvR",
        "colab_type": "code",
        "outputId": "bfe1e159-54c3-42d8-a4d8-6770fa52658c",
        "colab": {
          "base_uri": "https://localhost:8080/",
          "height": 34
        }
      },
      "source": [
        "#Shape ghir oss dimensjonene på arrayet\n",
        "print(two_d.shape)"
      ],
      "execution_count": 0,
      "outputs": [
        {
          "output_type": "stream",
          "text": [
            "(2, 2)\n"
          ],
          "name": "stdout"
        }
      ]
    },
    {
      "cell_type": "code",
      "metadata": {
        "id": "EJxXhPf0XDXx",
        "colab_type": "code",
        "outputId": "69152e8d-12b2-4497-9781-581daa62ba5a",
        "colab": {
          "base_uri": "https://localhost:8080/",
          "height": 118
        }
      },
      "source": [
        "#Man er i stand til å slice arrayene på vanlig måte\n",
        "print(returns[1:3])\n",
        "print(\"_______\")\n",
        "print(two_d)\n",
        "print(two_d[:, 0]) #første kolonne\n",
        "print(two_d[0,:]) #første rad"
      ],
      "execution_count": 0,
      "outputs": [
        {
          "output_type": "stream",
          "text": [
            "[1.2 3.3]\n",
            "_______\n",
            "[[1 2]\n",
            " [3 4]]\n",
            "[1 3]\n",
            "[1 2]\n"
          ],
          "name": "stdout"
        }
      ]
    },
    {
      "cell_type": "code",
      "metadata": {
        "id": "8IitReQbX7bv",
        "colab_type": "code",
        "outputId": "e618bb84-8c3c-4067-d1ed-8cecf490662c",
        "colab": {
          "base_uri": "https://localhost:8080/",
          "height": 84
        }
      },
      "source": [
        "#Man har også mange array funksjoner.\n",
        "print(returns)\n",
        "print(\"Log:\", np.log(returns)) #Log all numbers\n",
        "print(\"Mean:\", np.mean(returns))\n",
        "print(\"Max:\", np.max(returns))\n"
      ],
      "execution_count": 0,
      "outputs": [
        {
          "output_type": "stream",
          "text": [
            "[2.6 1.2 3.3 8.  4.1]\n",
            "Log: [0.95551145 0.18232156 1.19392247 2.07944154 1.41098697]\n",
            "Mean: 3.84\n",
            "Max: 8.0\n"
          ],
          "name": "stdout"
        }
      ]
    },
    {
      "cell_type": "code",
      "metadata": {
        "id": "PMsLY_z1YvRV",
        "colab_type": "code",
        "outputId": "d7f15a81-d5a5-4b18-dd39-f438e4cfed81",
        "colab": {
          "base_uri": "https://localhost:8080/",
          "height": 50
        }
      },
      "source": [
        "#kan også modifisere arrayene ganske fort\n",
        "returns2 = returns*10\n",
        "print(returns)\n",
        "print(returns2)"
      ],
      "execution_count": 0,
      "outputs": [
        {
          "output_type": "stream",
          "text": [
            "[2.6 1.2 3.3 8.  4.1]\n",
            "[26. 12. 33. 80. 41.]\n"
          ],
          "name": "stdout"
        }
      ]
    },
    {
      "cell_type": "code",
      "metadata": {
        "id": "rKgCnnGEZQOY",
        "colab_type": "code",
        "outputId": "1ae0ef1e-16f6-48b2-820d-45ecc4c01a18",
        "colab": {
          "base_uri": "https://localhost:8080/",
          "height": 34
        }
      },
      "source": [
        "def devide3(arr):\n",
        "  return arr/3\n",
        "\n",
        "test1 = devide3(returns2)\n",
        "print(test1)"
      ],
      "execution_count": 0,
      "outputs": [
        {
          "output_type": "stream",
          "text": [
            "[ 8.66666667  4.         11.         26.66666667 13.66666667]\n"
          ],
          "name": "stdout"
        }
      ]
    },
    {
      "cell_type": "code",
      "metadata": {
        "id": "cIDKKTbTZx8k",
        "colab_type": "code",
        "colab": {}
      },
      "source": [
        ""
      ],
      "execution_count": 0,
      "outputs": []
    }
  ]
}